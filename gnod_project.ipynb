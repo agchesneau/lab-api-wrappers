{
 "cells": [
  {
   "cell_type": "markdown",
   "id": "3aaf2e17",
   "metadata": {},
   "source": [
    "# Gnod lab"
   ]
  },
  {
   "cell_type": "markdown",
   "id": "d494fcdb",
   "metadata": {},
   "source": [
    "## Morning lab"
   ]
  },
  {
   "cell_type": "code",
   "execution_count": 1,
   "id": "5f0b868a",
   "metadata": {},
   "outputs": [],
   "source": [
    "from bs4 import BeautifulSoup\n",
    "import requests\n",
    "import pandas as pd\n",
    "import random\n",
    "from time import sleep"
   ]
  },
  {
   "cell_type": "code",
   "execution_count": 2,
   "id": "005932ed",
   "metadata": {},
   "outputs": [],
   "source": [
    "url = \"https://www.billboard.com/charts/hot-100/\""
   ]
  },
  {
   "cell_type": "code",
   "execution_count": 3,
   "id": "cf4e2cb5",
   "metadata": {},
   "outputs": [
    {
     "data": {
      "text/plain": [
       "200"
      ]
     },
     "execution_count": 3,
     "metadata": {},
     "output_type": "execute_result"
    }
   ],
   "source": [
    "response = requests.get(url)\n",
    "response.status_code"
   ]
  },
  {
   "cell_type": "code",
   "execution_count": 4,
   "id": "7db18646",
   "metadata": {},
   "outputs": [],
   "source": [
    "soup = BeautifulSoup(response.content, \"html.parser\")"
   ]
  },
  {
   "cell_type": "code",
   "execution_count": 5,
   "id": "0ef0dff3",
   "metadata": {},
   "outputs": [
    {
     "data": {
      "text/plain": [
       "[<li class=\"o-chart-results-list__item // lrv-u-flex-grow-1 lrv-u-flex lrv-u-flex-direction-column lrv-u-justify-content-center lrv-u-border-b-1 u-border-b-0@mobile-max lrv-u-border-color-grey-light lrv-u-padding-l-1@mobile-max\">\n",
       " <h3 class=\"c-title a-no-trucate a-font-primary-bold-s u-letter-spacing-0021 u-font-size-23@tablet lrv-u-font-size-16 u-line-height-125 u-line-height-normal@mobile-max a-truncate-ellipsis u-max-width-245 u-max-width-230@tablet-only u-letter-spacing-0028@tablet\" id=\"title-of-a-story\">\n",
       " All Too Well (Taylor's Version)\n",
       " </h3>\n",
       " <span class=\"c-label a-no-trucate a-font-primary-s lrv-u-font-size-14@mobile-max u-line-height-normal@mobile-max u-letter-spacing-0021 lrv-u-display-block a-truncate-ellipsis-2line u-max-width-330 u-max-width-230@tablet-only u-font-size-20@tablet\">\n",
       " Taylor Swift\n",
       " </span>\n",
       " </li>]"
      ]
     },
     "execution_count": 5,
     "metadata": {},
     "output_type": "execute_result"
    }
   ],
   "source": [
    "soup.select(\"#post-1479786 > div.pmc-paywall > div > div > div > div.chart-results-list.\\/\\/.lrv-u-padding-t-150.lrv-u-padding-t-050\\@mobile-max > div:nth-child(2) > ul > li.lrv-u-width-100p > ul > li.o-chart-results-list__item.\\/\\/.lrv-u-flex-grow-1.lrv-u-flex.lrv-u-flex-direction-column.lrv-u-justify-content-center.lrv-u-border-b-1.u-border-b-0\\@mobile-max.lrv-u-border-color-grey-light.lrv-u-padding-l-1\\@mobile-max\")"
   ]
  },
  {
   "cell_type": "code",
   "execution_count": 6,
   "id": "0967609a",
   "metadata": {},
   "outputs": [],
   "source": [
    "# all songs in top 100\n",
    "# soup.select(\"li.o-chart-results-list__item.\\/\\/.lrv-u-flex-grow-1.lrv-u-flex.lrv-u-flex-direction-column.lrv-u-justify-content-center.lrv-u-border-b-1.u-border-b-0\\@mobile-max.lrv-u-border-color-grey-light.lrv-u-padding-l-1\\@mobile-max\")"
   ]
  },
  {
   "cell_type": "code",
   "execution_count": 7,
   "id": "546e8ef7",
   "metadata": {},
   "outputs": [],
   "source": [
    "# all titles\n",
    "# soup.select(\"li.o-chart-results-list__item.\\/\\/.lrv-u-flex-grow-1.lrv-u-flex.lrv-u-flex-direction-column.lrv-u-justify-content-center.lrv-u-border-b-1.u-border-b-0\\@mobile-max.lrv-u-border-color-grey-light.lrv-u-padding-l-1\\@mobile-max h3\")"
   ]
  },
  {
   "cell_type": "code",
   "execution_count": 8,
   "id": "723fd20f",
   "metadata": {},
   "outputs": [
    {
     "data": {
      "text/plain": [
       "\"\\nAll Too Well (Taylor's Version)\\n\""
      ]
     },
     "execution_count": 8,
     "metadata": {},
     "output_type": "execute_result"
    }
   ],
   "source": [
    "soup.select(\"li.o-chart-results-list__item.\\/\\/.lrv-u-flex-grow-1.lrv-u-flex.lrv-u-flex-direction-column.lrv-u-justify-content-center.lrv-u-border-b-1.u-border-b-0\\@mobile-max.lrv-u-border-color-grey-light.lrv-u-padding-l-1\\@mobile-max h3\")[0].get_text()"
   ]
  },
  {
   "cell_type": "code",
   "execution_count": 9,
   "id": "2131afcc",
   "metadata": {},
   "outputs": [
    {
     "data": {
      "text/plain": [
       "'\\nTaylor Swift\\n'"
      ]
     },
     "execution_count": 9,
     "metadata": {},
     "output_type": "execute_result"
    }
   ],
   "source": [
    "# getting artist :\n",
    "soup.select(\"li.o-chart-results-list__item.\\/\\/.lrv-u-flex-grow-1.lrv-u-flex.lrv-u-flex-direction-column.lrv-u-justify-content-center.lrv-u-border-b-1.u-border-b-0\\@mobile-max.lrv-u-border-color-grey-light.lrv-u-padding-l-1\\@mobile-max span\")[0].get_text()"
   ]
  },
  {
   "cell_type": "code",
   "execution_count": 10,
   "id": "144037f1",
   "metadata": {},
   "outputs": [],
   "source": [
    "# making table\n",
    "title = []\n",
    "artist = []\n",
    "\n",
    "\n",
    "num_iter = len(soup.select(\"li.o-chart-results-list__item.\\/\\/.lrv-u-flex-grow-1.lrv-u-flex.lrv-u-flex-direction-column.lrv-u-justify-content-center.lrv-u-border-b-1.u-border-b-0\\@mobile-max.lrv-u-border-color-grey-light.lrv-u-padding-l-1\\@mobile-max h3\"))\n",
    "\n",
    "for i in range(num_iter):\n",
    "    title.append(soup.select(\"li.o-chart-results-list__item.\\/\\/.lrv-u-flex-grow-1.lrv-u-flex.lrv-u-flex-direction-column.lrv-u-justify-content-center.lrv-u-border-b-1.u-border-b-0\\@mobile-max.lrv-u-border-color-grey-light.lrv-u-padding-l-1\\@mobile-max h3\")[i].get_text())\n",
    "    artist.append(soup.select(\"li.o-chart-results-list__item.\\/\\/.lrv-u-flex-grow-1.lrv-u-flex.lrv-u-flex-direction-column.lrv-u-justify-content-center.lrv-u-border-b-1.u-border-b-0\\@mobile-max.lrv-u-border-color-grey-light.lrv-u-padding-l-1\\@mobile-max span\")[i].get_text())"
   ]
  },
  {
   "cell_type": "code",
   "execution_count": 11,
   "id": "a3c74b65",
   "metadata": {},
   "outputs": [],
   "source": [
    "top100 = pd.DataFrame({\"title\":title,\n",
    "                           \"artist\":artist,\n",
    "                      })"
   ]
  },
  {
   "cell_type": "code",
   "execution_count": 12,
   "id": "2f0b931d",
   "metadata": {},
   "outputs": [
    {
     "data": {
      "text/html": [
       "<div>\n",
       "<style scoped>\n",
       "    .dataframe tbody tr th:only-of-type {\n",
       "        vertical-align: middle;\n",
       "    }\n",
       "\n",
       "    .dataframe tbody tr th {\n",
       "        vertical-align: top;\n",
       "    }\n",
       "\n",
       "    .dataframe thead th {\n",
       "        text-align: right;\n",
       "    }\n",
       "</style>\n",
       "<table border=\"1\" class=\"dataframe\">\n",
       "  <thead>\n",
       "    <tr style=\"text-align: right;\">\n",
       "      <th></th>\n",
       "      <th>title</th>\n",
       "      <th>artist</th>\n",
       "    </tr>\n",
       "  </thead>\n",
       "  <tbody>\n",
       "    <tr>\n",
       "      <th>0</th>\n",
       "      <td>\\nAll Too Well (Taylor's Version)\\n</td>\n",
       "      <td>\\nTaylor Swift\\n</td>\n",
       "    </tr>\n",
       "    <tr>\n",
       "      <th>1</th>\n",
       "      <td>\\nEasy On Me\\n</td>\n",
       "      <td>\\nAdele\\n</td>\n",
       "    </tr>\n",
       "    <tr>\n",
       "      <th>2</th>\n",
       "      <td>\\nStay\\n</td>\n",
       "      <td>\\nThe Kid LAROI &amp; Justin Bieber\\n</td>\n",
       "    </tr>\n",
       "    <tr>\n",
       "      <th>3</th>\n",
       "      <td>\\nIndustry Baby\\n</td>\n",
       "      <td>\\nLil Nas X &amp; Jack Harlow\\n</td>\n",
       "    </tr>\n",
       "    <tr>\n",
       "      <th>4</th>\n",
       "      <td>\\nSmokin Out The Window\\n</td>\n",
       "      <td>\\nSilk Sonic (Bruno Mars &amp; Anderson .Paak)\\n</td>\n",
       "    </tr>\n",
       "  </tbody>\n",
       "</table>\n",
       "</div>"
      ],
      "text/plain": [
       "                                 title  \\\n",
       "0  \\nAll Too Well (Taylor's Version)\\n   \n",
       "1                       \\nEasy On Me\\n   \n",
       "2                             \\nStay\\n   \n",
       "3                    \\nIndustry Baby\\n   \n",
       "4            \\nSmokin Out The Window\\n   \n",
       "\n",
       "                                         artist  \n",
       "0                              \\nTaylor Swift\\n  \n",
       "1                                     \\nAdele\\n  \n",
       "2             \\nThe Kid LAROI & Justin Bieber\\n  \n",
       "3                   \\nLil Nas X & Jack Harlow\\n  \n",
       "4  \\nSilk Sonic (Bruno Mars & Anderson .Paak)\\n  "
      ]
     },
     "execution_count": 12,
     "metadata": {},
     "output_type": "execute_result"
    }
   ],
   "source": [
    "top100.head()"
   ]
  },
  {
   "cell_type": "code",
   "execution_count": 13,
   "id": "32f96119",
   "metadata": {},
   "outputs": [],
   "source": [
    "title_c = []\n",
    "for item in title :\n",
    "    item = item.replace('\\n','').lower()\n",
    "    title_c.append(item)\n",
    "    \n",
    "    \n",
    "        \n",
    "artist_c = []\n",
    "for item in artist :\n",
    "    item = item.replace('\\n','').lower()\n",
    "    artist_c.append(item)\n",
    "    \n",
    "top100 = pd.DataFrame({\"title\":title_c,\n",
    "                        \"artist\":artist_c,\n",
    "                      })"
   ]
  },
  {
   "cell_type": "code",
   "execution_count": 14,
   "id": "a6518bde",
   "metadata": {},
   "outputs": [
    {
     "data": {
      "text/html": [
       "<div>\n",
       "<style scoped>\n",
       "    .dataframe tbody tr th:only-of-type {\n",
       "        vertical-align: middle;\n",
       "    }\n",
       "\n",
       "    .dataframe tbody tr th {\n",
       "        vertical-align: top;\n",
       "    }\n",
       "\n",
       "    .dataframe thead th {\n",
       "        text-align: right;\n",
       "    }\n",
       "</style>\n",
       "<table border=\"1\" class=\"dataframe\">\n",
       "  <thead>\n",
       "    <tr style=\"text-align: right;\">\n",
       "      <th></th>\n",
       "      <th>title</th>\n",
       "      <th>artist</th>\n",
       "    </tr>\n",
       "  </thead>\n",
       "  <tbody>\n",
       "    <tr>\n",
       "      <th>0</th>\n",
       "      <td>all too well (taylor's version)</td>\n",
       "      <td>taylor swift</td>\n",
       "    </tr>\n",
       "    <tr>\n",
       "      <th>1</th>\n",
       "      <td>easy on me</td>\n",
       "      <td>adele</td>\n",
       "    </tr>\n",
       "    <tr>\n",
       "      <th>2</th>\n",
       "      <td>stay</td>\n",
       "      <td>the kid laroi &amp; justin bieber</td>\n",
       "    </tr>\n",
       "    <tr>\n",
       "      <th>3</th>\n",
       "      <td>industry baby</td>\n",
       "      <td>lil nas x &amp; jack harlow</td>\n",
       "    </tr>\n",
       "    <tr>\n",
       "      <th>4</th>\n",
       "      <td>smokin out the window</td>\n",
       "      <td>silk sonic (bruno mars &amp; anderson .paak)</td>\n",
       "    </tr>\n",
       "  </tbody>\n",
       "</table>\n",
       "</div>"
      ],
      "text/plain": [
       "                             title                                    artist\n",
       "0  all too well (taylor's version)                              taylor swift\n",
       "1                       easy on me                                     adele\n",
       "2                             stay             the kid laroi & justin bieber\n",
       "3                    industry baby                   lil nas x & jack harlow\n",
       "4            smokin out the window  silk sonic (bruno mars & anderson .paak)"
      ]
     },
     "execution_count": 14,
     "metadata": {},
     "output_type": "execute_result"
    }
   ],
   "source": [
    "top100.head()"
   ]
  },
  {
   "cell_type": "code",
   "execution_count": 15,
   "id": "165183c5",
   "metadata": {},
   "outputs": [
    {
     "data": {
      "text/plain": [
       "100"
      ]
     },
     "execution_count": 15,
     "metadata": {},
     "output_type": "execute_result"
    }
   ],
   "source": [
    "len(top100)"
   ]
  },
  {
   "cell_type": "markdown",
   "id": "15d4a2a8",
   "metadata": {},
   "source": [
    "## Afternoon lab"
   ]
  },
  {
   "cell_type": "code",
   "execution_count": 16,
   "id": "fdd690b8",
   "metadata": {},
   "outputs": [],
   "source": [
    "# adding France Top 100"
   ]
  },
  {
   "cell_type": "code",
   "execution_count": 17,
   "id": "aa31cda4",
   "metadata": {},
   "outputs": [],
   "source": [
    "#simpletable > tbody > tr:nth-child(1) > td.mp.text > div"
   ]
  },
  {
   "cell_type": "code",
   "execution_count": 18,
   "id": "ccf08c96",
   "metadata": {},
   "outputs": [],
   "source": [
    "url2 = \"https://kworb.net/charts/deezer/fr.html\""
   ]
  },
  {
   "cell_type": "code",
   "execution_count": 19,
   "id": "97796586",
   "metadata": {},
   "outputs": [
    {
     "data": {
      "text/plain": [
       "200"
      ]
     },
     "execution_count": 19,
     "metadata": {},
     "output_type": "execute_result"
    }
   ],
   "source": [
    "response2 = requests.get(url2)\n",
    "response2.status_code"
   ]
  },
  {
   "cell_type": "code",
   "execution_count": 20,
   "id": "9187a3fb",
   "metadata": {},
   "outputs": [],
   "source": [
    "soup2 = BeautifulSoup(response2.content, \"html.parser\")"
   ]
  },
  {
   "cell_type": "code",
   "execution_count": 21,
   "id": "d2e4a5a9",
   "metadata": {},
   "outputs": [
    {
     "data": {
      "text/plain": [
       "[<div>Orelsan - Jour meilleur</div>]"
      ]
     },
     "execution_count": 21,
     "metadata": {},
     "output_type": "execute_result"
    }
   ],
   "source": [
    "soup2.select(\"#simpletable > tbody > tr:nth-child(1) > td.mp.text > div\")"
   ]
  },
  {
   "cell_type": "code",
   "execution_count": 22,
   "id": "0e930493",
   "metadata": {},
   "outputs": [],
   "source": [
    "# soup2.select(\"#simpletable > tbody\")"
   ]
  },
  {
   "cell_type": "code",
   "execution_count": 23,
   "id": "9cf35334",
   "metadata": {},
   "outputs": [],
   "source": [
    "new_table =[]\n",
    "\n",
    "for i in range(len(soup2.select(\"#simpletable > tbody div\"))) :\n",
    "    new_table.append(soup2.select(\"#simpletable > tbody div\")[i].get_text())"
   ]
  },
  {
   "cell_type": "code",
   "execution_count": 24,
   "id": "5f4b40bb",
   "metadata": {},
   "outputs": [],
   "source": [
    "title=[]\n",
    "artist=[]\n",
    "\n",
    "for i in new_table :\n",
    "    x, y = i.split(' - ')\n",
    "    artist.append(x)\n",
    "    title.append(y)\n",
    "    \n",
    "france_top100 = pd.DataFrame({\"title\":title, \"artist\":artist})"
   ]
  },
  {
   "cell_type": "code",
   "execution_count": 25,
   "id": "d8fa861c",
   "metadata": {},
   "outputs": [],
   "source": [
    "# generate random integer values\n",
    "from random import seed\n",
    "from random import randint"
   ]
  },
  {
   "cell_type": "markdown",
   "id": "ae739a34",
   "metadata": {},
   "source": [
    "# Getting songs from spotify"
   ]
  },
  {
   "cell_type": "code",
   "execution_count": 26,
   "id": "4076c5d5",
   "metadata": {},
   "outputs": [],
   "source": [
    "secrets_file = open(\"secrets.txt\",\"r\")\n",
    "string = secrets_file.read()\n",
    "secrets_dict={}\n",
    "for line in string.split('\\n'):\n",
    "    if len(line) > 0:\n",
    "        secrets_dict[line.split(':')[0]]=line.split(':')[1]"
   ]
  },
  {
   "cell_type": "code",
   "execution_count": 27,
   "id": "965d575b",
   "metadata": {},
   "outputs": [],
   "source": [
    "import spotipy\n",
    "from spotipy.oauth2 import SpotifyClientCredentials, SpotifyOAuth\n",
    "\n",
    "# sp = spotipy.Spotify(auth_manager=SpotifyClientCredentials(client_id=secrets_dict['cid'],\n",
    "#                                                            client_secret=secrets_dict['csecret']))\n"
   ]
  },
  {
   "cell_type": "code",
   "execution_count": 80,
   "id": "923705a5",
   "metadata": {},
   "outputs": [],
   "source": [
    "client_id = secrets_dict['cid']\n",
    "client_secret = secrets_dict['csecret']\n",
    "username = \"Agathe\"\n",
    "\n",
    "#note that I extended the scope to also modify non-public playlists\n",
    "scope = 'user-library-read'\n",
    "\n",
    "redirect_uri = \"https://developer.spotify.com/dashboard/applications/f976e079afea49dabf28567ae9515b5a/users\"\n",
    "\n",
    "client_cred_manager = SpotifyClientCredentials(client_id=client_id, \n",
    "                                                      client_secret=client_secret)\n",
    "                                                      \n",
    "sp = spotipy.Spotify(client_credentials_manager = client_cred_manager)\n",
    "\n",
    "token = spotipy.util.prompt_for_user_token(username, scope, client_id, client_secret, redirect_uri)\n",
    "if token:\n",
    "    sp = spotipy.Spotify(auth=token)\n",
    "else:\n",
    "    print(\"Can't get token for\", username)"
   ]
  },
  {
   "cell_type": "code",
   "execution_count": 29,
   "id": "15a88249",
   "metadata": {},
   "outputs": [],
   "source": [
    "results = sp.current_user_saved_tracks()"
   ]
  },
  {
   "cell_type": "code",
   "execution_count": 30,
   "id": "fd2d7f60",
   "metadata": {},
   "outputs": [],
   "source": [
    "def get_playlist_tracks(results):\n",
    "    tracks = results['items']\n",
    "    while results['next']!=None:\n",
    "        results = sp.next(results)\n",
    "        tracks = tracks + results['items']\n",
    "        sleep(randint(1,3))\n",
    "    return tracks"
   ]
  },
  {
   "cell_type": "code",
   "execution_count": 31,
   "id": "771b53dd",
   "metadata": {},
   "outputs": [],
   "source": [
    "tracks = get_playlist_tracks(results)"
   ]
  },
  {
   "cell_type": "code",
   "execution_count": 32,
   "id": "e005d2d7",
   "metadata": {},
   "outputs": [],
   "source": [
    "my_titles = []\n",
    "my_titles = [item['track']['name'] for item in tracks]\n",
    "my_uri = []\n",
    "my_uri = [item['track']['uri'] for item in tracks]\n",
    "\n",
    "def list_artists(tracklist):\n",
    "    lst=[]\n",
    "    for item in tracklist:\n",
    "        this_item_artist =[]\n",
    "        for artist in item['track']['artists'] :\n",
    "            this_item_artist.append(artist['name'])\n",
    "        lst.append(this_item_artist)\n",
    "    return lst\n",
    "my_artists = []\n",
    "my_artists = list_artists(tracks)\n"
   ]
  },
  {
   "cell_type": "code",
   "execution_count": 66,
   "id": "80d4cc57",
   "metadata": {},
   "outputs": [],
   "source": [
    "my_songs = pd.DataFrame({'uri':my_uri,'title':my_titles,'artist':my_artists})\n",
    " \n",
    "    \n",
    "my_songs['artist']=my_songs['artist'].apply(lambda x : ', '.join(x))"
   ]
  },
  {
   "cell_type": "code",
   "execution_count": 67,
   "id": "f8095a98",
   "metadata": {},
   "outputs": [
    {
     "data": {
      "text/html": [
       "<div>\n",
       "<style scoped>\n",
       "    .dataframe tbody tr th:only-of-type {\n",
       "        vertical-align: middle;\n",
       "    }\n",
       "\n",
       "    .dataframe tbody tr th {\n",
       "        vertical-align: top;\n",
       "    }\n",
       "\n",
       "    .dataframe thead th {\n",
       "        text-align: right;\n",
       "    }\n",
       "</style>\n",
       "<table border=\"1\" class=\"dataframe\">\n",
       "  <thead>\n",
       "    <tr style=\"text-align: right;\">\n",
       "      <th></th>\n",
       "      <th>uri</th>\n",
       "      <th>title</th>\n",
       "      <th>artist</th>\n",
       "    </tr>\n",
       "  </thead>\n",
       "  <tbody>\n",
       "    <tr>\n",
       "      <th>0</th>\n",
       "      <td>spotify:track:4xBHZ2Mr0gCdFYXrPZuYXO</td>\n",
       "      <td>Lonely Day</td>\n",
       "      <td>System Of A Down</td>\n",
       "    </tr>\n",
       "    <tr>\n",
       "      <th>1</th>\n",
       "      <td>spotify:track:0snQkGI5qnAmohLE7jTsTn</td>\n",
       "      <td>Toxicity</td>\n",
       "      <td>System Of A Down</td>\n",
       "    </tr>\n",
       "    <tr>\n",
       "      <th>2</th>\n",
       "      <td>spotify:track:4r1AS456lSXXXv6aVpDT4e</td>\n",
       "      <td>Sun in an Empty Room</td>\n",
       "      <td>The Weakerthans</td>\n",
       "    </tr>\n",
       "    <tr>\n",
       "      <th>3</th>\n",
       "      <td>spotify:track:563RrhWUWOYNGW5vhxHSH7</td>\n",
       "      <td>Harmless</td>\n",
       "      <td>Gregory and the Hawk</td>\n",
       "    </tr>\n",
       "    <tr>\n",
       "      <th>4</th>\n",
       "      <td>spotify:track:4ca03o6ZZsFA0LB620kpKI</td>\n",
       "      <td>Chasing Birds - Preservation Hall Jazz Band Re...</td>\n",
       "      <td>Foo Fighters</td>\n",
       "    </tr>\n",
       "    <tr>\n",
       "      <th>...</th>\n",
       "      <td>...</td>\n",
       "      <td>...</td>\n",
       "      <td>...</td>\n",
       "    </tr>\n",
       "    <tr>\n",
       "      <th>1169</th>\n",
       "      <td>spotify:track:7i7vtLp7cLSoz1moXwxxEd</td>\n",
       "      <td>Pritouri Se Planinata</td>\n",
       "      <td>Bulgarian State Television Female Choir</td>\n",
       "    </tr>\n",
       "    <tr>\n",
       "      <th>1170</th>\n",
       "      <td>spotify:track:4qo5BUZx4IAdbmltMJAiKd</td>\n",
       "      <td>Tonight</td>\n",
       "      <td>Lykke Li</td>\n",
       "    </tr>\n",
       "    <tr>\n",
       "      <th>1171</th>\n",
       "      <td>spotify:track:5xhQChGGhKLWqBqX4XhtYE</td>\n",
       "      <td>Sail</td>\n",
       "      <td>AWOLNATION</td>\n",
       "    </tr>\n",
       "    <tr>\n",
       "      <th>1172</th>\n",
       "      <td>spotify:track:6xkAnyEoJ2VDZuh7xfdl3Z</td>\n",
       "      <td>Happy</td>\n",
       "      <td>MARINA</td>\n",
       "    </tr>\n",
       "    <tr>\n",
       "      <th>1173</th>\n",
       "      <td>spotify:track:6GyFP1nfCDB8lbD2bG0Hq9</td>\n",
       "      <td>Midnight City</td>\n",
       "      <td>M83</td>\n",
       "    </tr>\n",
       "  </tbody>\n",
       "</table>\n",
       "<p>1174 rows × 3 columns</p>\n",
       "</div>"
      ],
      "text/plain": [
       "                                       uri  \\\n",
       "0     spotify:track:4xBHZ2Mr0gCdFYXrPZuYXO   \n",
       "1     spotify:track:0snQkGI5qnAmohLE7jTsTn   \n",
       "2     spotify:track:4r1AS456lSXXXv6aVpDT4e   \n",
       "3     spotify:track:563RrhWUWOYNGW5vhxHSH7   \n",
       "4     spotify:track:4ca03o6ZZsFA0LB620kpKI   \n",
       "...                                    ...   \n",
       "1169  spotify:track:7i7vtLp7cLSoz1moXwxxEd   \n",
       "1170  spotify:track:4qo5BUZx4IAdbmltMJAiKd   \n",
       "1171  spotify:track:5xhQChGGhKLWqBqX4XhtYE   \n",
       "1172  spotify:track:6xkAnyEoJ2VDZuh7xfdl3Z   \n",
       "1173  spotify:track:6GyFP1nfCDB8lbD2bG0Hq9   \n",
       "\n",
       "                                                  title  \\\n",
       "0                                            Lonely Day   \n",
       "1                                              Toxicity   \n",
       "2                                  Sun in an Empty Room   \n",
       "3                                              Harmless   \n",
       "4     Chasing Birds - Preservation Hall Jazz Band Re...   \n",
       "...                                                 ...   \n",
       "1169                              Pritouri Se Planinata   \n",
       "1170                                            Tonight   \n",
       "1171                                               Sail   \n",
       "1172                                              Happy   \n",
       "1173                                      Midnight City   \n",
       "\n",
       "                                       artist  \n",
       "0                            System Of A Down  \n",
       "1                            System Of A Down  \n",
       "2                             The Weakerthans  \n",
       "3                        Gregory and the Hawk  \n",
       "4                                Foo Fighters  \n",
       "...                                       ...  \n",
       "1169  Bulgarian State Television Female Choir  \n",
       "1170                                 Lykke Li  \n",
       "1171                               AWOLNATION  \n",
       "1172                                   MARINA  \n",
       "1173                                      M83  \n",
       "\n",
       "[1174 rows x 3 columns]"
      ]
     },
     "execution_count": 67,
     "metadata": {},
     "output_type": "execute_result"
    }
   ],
   "source": [
    "my_songs"
   ]
  },
  {
   "cell_type": "markdown",
   "id": "152e4aba",
   "metadata": {},
   "source": [
    "# Clustering"
   ]
  },
  {
   "cell_type": "code",
   "execution_count": 35,
   "id": "c9395ce8",
   "metadata": {},
   "outputs": [],
   "source": [
    "import numpy as np\n",
    "import matplotlib.pyplot as plt\n",
    "\n",
    "from sklearn import cluster, datasets\n",
    "from sklearn.preprocessing import StandardScaler\n",
    "from matplotlib.lines import Line2D"
   ]
  },
  {
   "cell_type": "code",
   "execution_count": 36,
   "id": "b6b7b438",
   "metadata": {},
   "outputs": [],
   "source": [
    "# getting the audio features"
   ]
  },
  {
   "cell_type": "code",
   "execution_count": 37,
   "id": "40856cd0",
   "metadata": {},
   "outputs": [],
   "source": [
    "df = pd.DataFrame(data=None)\n",
    "for song in my_songs['uri']:\n",
    "    features_list = sp.audio_features(song)\n",
    "    features_df = pd.DataFrame.from_dict(features_list)\n",
    "    df = pd.concat([features_df, df], axis=0)"
   ]
  },
  {
   "cell_type": "code",
   "execution_count": 38,
   "id": "2bcd30b8",
   "metadata": {},
   "outputs": [
    {
     "data": {
      "text/html": [
       "<div>\n",
       "<style scoped>\n",
       "    .dataframe tbody tr th:only-of-type {\n",
       "        vertical-align: middle;\n",
       "    }\n",
       "\n",
       "    .dataframe tbody tr th {\n",
       "        vertical-align: top;\n",
       "    }\n",
       "\n",
       "    .dataframe thead th {\n",
       "        text-align: right;\n",
       "    }\n",
       "</style>\n",
       "<table border=\"1\" class=\"dataframe\">\n",
       "  <thead>\n",
       "    <tr style=\"text-align: right;\">\n",
       "      <th></th>\n",
       "      <th>danceability</th>\n",
       "      <th>energy</th>\n",
       "      <th>key</th>\n",
       "      <th>loudness</th>\n",
       "      <th>mode</th>\n",
       "      <th>speechiness</th>\n",
       "      <th>acousticness</th>\n",
       "      <th>instrumentalness</th>\n",
       "      <th>liveness</th>\n",
       "      <th>valence</th>\n",
       "      <th>tempo</th>\n",
       "      <th>duration_ms</th>\n",
       "      <th>time_signature</th>\n",
       "    </tr>\n",
       "  </thead>\n",
       "  <tbody>\n",
       "    <tr>\n",
       "      <th>0</th>\n",
       "      <td>0.507</td>\n",
       "      <td>0.729</td>\n",
       "      <td>11</td>\n",
       "      <td>-5.399</td>\n",
       "      <td>0</td>\n",
       "      <td>0.0393</td>\n",
       "      <td>0.018200</td>\n",
       "      <td>0.000001</td>\n",
       "      <td>0.0658</td>\n",
       "      <td>0.2720</td>\n",
       "      <td>105.013</td>\n",
       "      <td>243960</td>\n",
       "      <td>4</td>\n",
       "    </tr>\n",
       "    <tr>\n",
       "      <th>0</th>\n",
       "      <td>0.289</td>\n",
       "      <td>0.350</td>\n",
       "      <td>5</td>\n",
       "      <td>-10.856</td>\n",
       "      <td>1</td>\n",
       "      <td>0.0367</td>\n",
       "      <td>0.872000</td>\n",
       "      <td>0.000000</td>\n",
       "      <td>0.0826</td>\n",
       "      <td>0.0885</td>\n",
       "      <td>79.625</td>\n",
       "      <td>243843</td>\n",
       "      <td>4</td>\n",
       "    </tr>\n",
       "    <tr>\n",
       "      <th>0</th>\n",
       "      <td>0.825</td>\n",
       "      <td>0.435</td>\n",
       "      <td>1</td>\n",
       "      <td>-9.582</td>\n",
       "      <td>1</td>\n",
       "      <td>0.0568</td>\n",
       "      <td>0.452000</td>\n",
       "      <td>0.609000</td>\n",
       "      <td>0.0953</td>\n",
       "      <td>0.2430</td>\n",
       "      <td>119.038</td>\n",
       "      <td>259102</td>\n",
       "      <td>4</td>\n",
       "    </tr>\n",
       "    <tr>\n",
       "      <th>0</th>\n",
       "      <td>0.360</td>\n",
       "      <td>0.796</td>\n",
       "      <td>2</td>\n",
       "      <td>-6.405</td>\n",
       "      <td>1</td>\n",
       "      <td>0.0659</td>\n",
       "      <td>0.813000</td>\n",
       "      <td>0.089800</td>\n",
       "      <td>0.2880</td>\n",
       "      <td>0.2040</td>\n",
       "      <td>149.981</td>\n",
       "      <td>253027</td>\n",
       "      <td>4</td>\n",
       "    </tr>\n",
       "    <tr>\n",
       "      <th>0</th>\n",
       "      <td>0.140</td>\n",
       "      <td>0.127</td>\n",
       "      <td>6</td>\n",
       "      <td>-9.527</td>\n",
       "      <td>0</td>\n",
       "      <td>0.0389</td>\n",
       "      <td>0.933000</td>\n",
       "      <td>0.034400</td>\n",
       "      <td>0.0591</td>\n",
       "      <td>0.0957</td>\n",
       "      <td>63.231</td>\n",
       "      <td>165893</td>\n",
       "      <td>5</td>\n",
       "    </tr>\n",
       "    <tr>\n",
       "      <th>...</th>\n",
       "      <td>...</td>\n",
       "      <td>...</td>\n",
       "      <td>...</td>\n",
       "      <td>...</td>\n",
       "      <td>...</td>\n",
       "      <td>...</td>\n",
       "      <td>...</td>\n",
       "      <td>...</td>\n",
       "      <td>...</td>\n",
       "      <td>...</td>\n",
       "      <td>...</td>\n",
       "      <td>...</td>\n",
       "      <td>...</td>\n",
       "    </tr>\n",
       "    <tr>\n",
       "      <th>0</th>\n",
       "      <td>0.651</td>\n",
       "      <td>0.789</td>\n",
       "      <td>8</td>\n",
       "      <td>-8.508</td>\n",
       "      <td>1</td>\n",
       "      <td>0.0674</td>\n",
       "      <td>0.013000</td>\n",
       "      <td>0.142000</td>\n",
       "      <td>0.3660</td>\n",
       "      <td>0.7870</td>\n",
       "      <td>104.064</td>\n",
       "      <td>218703</td>\n",
       "      <td>4</td>\n",
       "    </tr>\n",
       "    <tr>\n",
       "      <th>0</th>\n",
       "      <td>0.354</td>\n",
       "      <td>0.562</td>\n",
       "      <td>4</td>\n",
       "      <td>-8.568</td>\n",
       "      <td>0</td>\n",
       "      <td>0.0309</td>\n",
       "      <td>0.129000</td>\n",
       "      <td>0.107000</td>\n",
       "      <td>0.1070</td>\n",
       "      <td>0.1920</td>\n",
       "      <td>115.748</td>\n",
       "      <td>200547</td>\n",
       "      <td>4</td>\n",
       "    </tr>\n",
       "    <tr>\n",
       "      <th>0</th>\n",
       "      <td>0.400</td>\n",
       "      <td>0.613</td>\n",
       "      <td>4</td>\n",
       "      <td>-6.329</td>\n",
       "      <td>1</td>\n",
       "      <td>0.0338</td>\n",
       "      <td>0.071200</td>\n",
       "      <td>0.011400</td>\n",
       "      <td>0.2270</td>\n",
       "      <td>0.5210</td>\n",
       "      <td>207.576</td>\n",
       "      <td>240400</td>\n",
       "      <td>4</td>\n",
       "    </tr>\n",
       "    <tr>\n",
       "      <th>0</th>\n",
       "      <td>0.413</td>\n",
       "      <td>0.873</td>\n",
       "      <td>8</td>\n",
       "      <td>-4.151</td>\n",
       "      <td>1</td>\n",
       "      <td>0.0536</td>\n",
       "      <td>0.000264</td>\n",
       "      <td>0.002490</td>\n",
       "      <td>0.2040</td>\n",
       "      <td>0.4800</td>\n",
       "      <td>116.680</td>\n",
       "      <td>218933</td>\n",
       "      <td>3</td>\n",
       "    </tr>\n",
       "    <tr>\n",
       "      <th>0</th>\n",
       "      <td>0.458</td>\n",
       "      <td>0.783</td>\n",
       "      <td>8</td>\n",
       "      <td>-3.226</td>\n",
       "      <td>0</td>\n",
       "      <td>0.0322</td>\n",
       "      <td>0.346000</td>\n",
       "      <td>0.000006</td>\n",
       "      <td>0.1300</td>\n",
       "      <td>0.2240</td>\n",
       "      <td>113.072</td>\n",
       "      <td>167907</td>\n",
       "      <td>3</td>\n",
       "    </tr>\n",
       "  </tbody>\n",
       "</table>\n",
       "<p>1174 rows × 13 columns</p>\n",
       "</div>"
      ],
      "text/plain": [
       "    danceability  energy  key  loudness  mode  speechiness  acousticness  \\\n",
       "0          0.507   0.729   11    -5.399     0       0.0393      0.018200   \n",
       "0          0.289   0.350    5   -10.856     1       0.0367      0.872000   \n",
       "0          0.825   0.435    1    -9.582     1       0.0568      0.452000   \n",
       "0          0.360   0.796    2    -6.405     1       0.0659      0.813000   \n",
       "0          0.140   0.127    6    -9.527     0       0.0389      0.933000   \n",
       "..           ...     ...  ...       ...   ...          ...           ...   \n",
       "0          0.651   0.789    8    -8.508     1       0.0674      0.013000   \n",
       "0          0.354   0.562    4    -8.568     0       0.0309      0.129000   \n",
       "0          0.400   0.613    4    -6.329     1       0.0338      0.071200   \n",
       "0          0.413   0.873    8    -4.151     1       0.0536      0.000264   \n",
       "0          0.458   0.783    8    -3.226     0       0.0322      0.346000   \n",
       "\n",
       "    instrumentalness  liveness  valence    tempo  duration_ms  time_signature  \n",
       "0           0.000001    0.0658   0.2720  105.013       243960               4  \n",
       "0           0.000000    0.0826   0.0885   79.625       243843               4  \n",
       "0           0.609000    0.0953   0.2430  119.038       259102               4  \n",
       "0           0.089800    0.2880   0.2040  149.981       253027               4  \n",
       "0           0.034400    0.0591   0.0957   63.231       165893               5  \n",
       "..               ...       ...      ...      ...          ...             ...  \n",
       "0           0.142000    0.3660   0.7870  104.064       218703               4  \n",
       "0           0.107000    0.1070   0.1920  115.748       200547               4  \n",
       "0           0.011400    0.2270   0.5210  207.576       240400               4  \n",
       "0           0.002490    0.2040   0.4800  116.680       218933               3  \n",
       "0           0.000006    0.1300   0.2240  113.072       167907               3  \n",
       "\n",
       "[1174 rows x 13 columns]"
      ]
     },
     "execution_count": 38,
     "metadata": {},
     "output_type": "execute_result"
    }
   ],
   "source": [
    "X = df.select_dtypes(include = 'number')\n",
    "X"
   ]
  },
  {
   "cell_type": "code",
   "execution_count": 39,
   "id": "08d5b592",
   "metadata": {},
   "outputs": [],
   "source": [
    "from sklearn.preprocessing import StandardScaler\n",
    "\n",
    "scaler = StandardScaler()\n",
    "X_prep = scaler.fit_transform(X)"
   ]
  },
  {
   "cell_type": "code",
   "execution_count": 40,
   "id": "b72535cf",
   "metadata": {},
   "outputs": [
    {
     "data": {
      "image/png": "[encoded data removed]",
      "text/plain": [
       "<Figure size 360x360 with 1 Axes>"
      ]
     },
     "metadata": {
      "needs_background": "light"
     },
     "output_type": "display_data"
    }
   ],
   "source": [
    "from sklearn.cluster import KMeans\n",
    "\n",
    "kmeans = KMeans(n_clusters=4, random_state=1234)\n",
    "kmeans.fit(X_prep)\n",
    "clusters = kmeans.predict(X_prep)\n",
    "plt.figure(figsize=(5, 5))\n",
    "plt.scatter(X_prep[:, 0], X_prep[:, 1], c=clusters,alpha=0.5)\n",
    "plt.show()"
   ]
  },
  {
   "cell_type": "code",
   "execution_count": null,
   "id": "a2fad5a7",
   "metadata": {},
   "outputs": [],
   "source": [
    "# pickling:\n",
    "import pickle\n",
    "\n",
    "# pickle.dump(kmeans, open('kmeans_model', 'wb'))"
   ]
  },
  {
   "cell_type": "code",
   "execution_count": null,
   "id": "54051875",
   "metadata": {},
   "outputs": [],
   "source": []
  },
  {
   "cell_type": "code",
   "execution_count": 69,
   "id": "d3145a77",
   "metadata": {},
   "outputs": [],
   "source": [
    "my_songs['cluster']=clusters"
   ]
  },
  {
   "cell_type": "markdown",
   "id": "f34c61ee",
   "metadata": {},
   "source": [
    "# Exporting CSV & pickling"
   ]
  },
  {
   "cell_type": "code",
   "execution_count": 83,
   "id": "6e68ed5a",
   "metadata": {},
   "outputs": [],
   "source": [
    "my_songs.to_csv(path_or_buf ='./my_songs.csv')\n",
    "top100.to_csv('./top100.csv')"
   ]
  },
  {
   "cell_type": "markdown",
   "id": "16b15078",
   "metadata": {},
   "source": [
    "# Getting user input"
   ]
  },
  {
   "cell_type": "code",
   "execution_count": 82,
   "id": "37b58c29",
   "metadata": {},
   "outputs": [
    {
     "name": "stdout",
     "output_type": "stream",
     "text": [
      "Song title :enter sandman\n",
      "Artist :metallica\n",
      "\n",
      "Here is a similar song :  Sister Of Pearl  by  Baio\n",
      "\n"
     ]
    },
    {
     "ename": "KeyboardInterrupt",
     "evalue": "Interrupted by user",
     "output_type": "error",
     "traceback": [
      "\u001b[0;31m---------------------------------------------------------------------------\u001b[0m",
      "\u001b[0;31mKeyboardInterrupt\u001b[0m                         Traceback (most recent call last)",
      "\u001b[0;32m<ipython-input-82-acb72ad06d4c>\u001b[0m in \u001b[0;36m<module>\u001b[0;34m\u001b[0m\n\u001b[1;32m     34\u001b[0m             \u001b[0mprint\u001b[0m\u001b[0;34m(\u001b[0m\u001b[0;34m'This song can not be found in the database.'\u001b[0m\u001b[0;34m)\u001b[0m\u001b[0;34m\u001b[0m\u001b[0;34m\u001b[0m\u001b[0m\n\u001b[1;32m     35\u001b[0m     \u001b[0mprint\u001b[0m\u001b[0;34m(\u001b[0m\u001b[0;34m)\u001b[0m\u001b[0;34m\u001b[0m\u001b[0;34m\u001b[0m\u001b[0m\n\u001b[0;32m---> 36\u001b[0;31m     \u001b[0mi\u001b[0m \u001b[0;34m=\u001b[0m \u001b[0minput\u001b[0m\u001b[0;34m(\u001b[0m\u001b[0;34m'Do you want to try again ? Type yes or no :      '\u001b[0m\u001b[0;34m)\u001b[0m\u001b[0;34m\u001b[0m\u001b[0;34m\u001b[0m\u001b[0m\n\u001b[0m\u001b[1;32m     37\u001b[0m \u001b[0;34m\u001b[0m\u001b[0m\n",
      "\u001b[0;32m~/opt/anaconda3/lib/python3.8/site-packages/ipykernel/kernelbase.py\u001b[0m in \u001b[0;36mraw_input\u001b[0;34m(self, prompt)\u001b[0m\n\u001b[1;32m    858\u001b[0m                 \u001b[0;34m\"raw_input was called, but this frontend does not support input requests.\"\u001b[0m\u001b[0;34m\u001b[0m\u001b[0;34m\u001b[0m\u001b[0m\n\u001b[1;32m    859\u001b[0m             )\n\u001b[0;32m--> 860\u001b[0;31m         return self._input_request(str(prompt),\n\u001b[0m\u001b[1;32m    861\u001b[0m             \u001b[0mself\u001b[0m\u001b[0;34m.\u001b[0m\u001b[0m_parent_ident\u001b[0m\u001b[0;34m,\u001b[0m\u001b[0;34m\u001b[0m\u001b[0;34m\u001b[0m\u001b[0m\n\u001b[1;32m    862\u001b[0m             \u001b[0mself\u001b[0m\u001b[0;34m.\u001b[0m\u001b[0m_parent_header\u001b[0m\u001b[0;34m,\u001b[0m\u001b[0;34m\u001b[0m\u001b[0;34m\u001b[0m\u001b[0m\n",
      "\u001b[0;32m~/opt/anaconda3/lib/python3.8/site-packages/ipykernel/kernelbase.py\u001b[0m in \u001b[0;36m_input_request\u001b[0;34m(self, prompt, ident, parent, password)\u001b[0m\n\u001b[1;32m    902\u001b[0m             \u001b[0;32mexcept\u001b[0m \u001b[0mKeyboardInterrupt\u001b[0m\u001b[0;34m:\u001b[0m\u001b[0;34m\u001b[0m\u001b[0;34m\u001b[0m\u001b[0m\n\u001b[1;32m    903\u001b[0m                 \u001b[0;31m# re-raise KeyboardInterrupt, to truncate traceback\u001b[0m\u001b[0;34m\u001b[0m\u001b[0;34m\u001b[0m\u001b[0;34m\u001b[0m\u001b[0m\n\u001b[0;32m--> 904\u001b[0;31m                 \u001b[0;32mraise\u001b[0m \u001b[0mKeyboardInterrupt\u001b[0m\u001b[0;34m(\u001b[0m\u001b[0;34m\"Interrupted by user\"\u001b[0m\u001b[0;34m)\u001b[0m \u001b[0;32mfrom\u001b[0m \u001b[0;32mNone\u001b[0m\u001b[0;34m\u001b[0m\u001b[0;34m\u001b[0m\u001b[0m\n\u001b[0m\u001b[1;32m    905\u001b[0m             \u001b[0;32mexcept\u001b[0m \u001b[0mException\u001b[0m \u001b[0;32mas\u001b[0m \u001b[0me\u001b[0m\u001b[0;34m:\u001b[0m\u001b[0;34m\u001b[0m\u001b[0;34m\u001b[0m\u001b[0m\n\u001b[1;32m    906\u001b[0m                 \u001b[0mself\u001b[0m\u001b[0;34m.\u001b[0m\u001b[0mlog\u001b[0m\u001b[0;34m.\u001b[0m\u001b[0mwarning\u001b[0m\u001b[0;34m(\u001b[0m\u001b[0;34m\"Invalid Message:\"\u001b[0m\u001b[0;34m,\u001b[0m \u001b[0mexc_info\u001b[0m\u001b[0;34m=\u001b[0m\u001b[0;32mTrue\u001b[0m\u001b[0;34m)\u001b[0m\u001b[0;34m\u001b[0m\u001b[0;34m\u001b[0m\u001b[0m\n",
      "\u001b[0;31mKeyboardInterrupt\u001b[0m: Interrupted by user"
     ]
    }
   ],
   "source": [
    "from random import randint\n",
    "import spotipy\n",
    "from spotipy.oauth2 import SpotifyClientCredentials\n",
    "import pandas as pd\n",
    "import pickle\n",
    "\n",
    "\n",
    "\n",
    "secrets_file = open(\"secrets.txt\",\"r\")\n",
    "string = secrets_file.read()\n",
    "secrets_dict={}\n",
    "for line in string.split('\\n'):\n",
    "    if len(line) > 0:\n",
    "        secrets_dict[line.split(':')[0]]=line.split(':')[1]\n",
    "\n",
    "\n",
    "\n",
    "# sp = spotipy.Spotify(auth_manager=SpotifyClientCredentials(client_id=secrets_dict['cid'],\n",
    "#                                                            client_secret=secrets_dict['csecret']))\n",
    "\n",
    "\n",
    "my_songs = pd.read_csv('./my_songs.csv')\n",
    "top100 = pd.read_csv('./top100.csv')\n",
    "# unpickling\n",
    "# kmeans = pickle.load('kmeans_model', 'rb')\n",
    "\n",
    "\n",
    "\n",
    "i = 'yes'\n",
    "\n",
    "\n",
    "\n",
    "while i == 'yes' :\n",
    "\n",
    "    input_t = input('Song title :')\n",
    "    input_a = input('Artist :')\n",
    "    print()\n",
    "\n",
    "    input_t = input_t.lower()\n",
    "    input_a = input_a.lower()\n",
    "    title = input_t\n",
    "    if (input_t in top100['title'].values) & (input_a in top100['artist'].values):\n",
    "        while title == input_t :\n",
    "            rnb = randint(1, 100)\n",
    "            title = top100['title'][rnb]\n",
    "            artist = top100['artist'][rnb]\n",
    "        print('This song is a hit song ! Here is another one : ', title,' by ',artist)\n",
    "    else :\n",
    "        search = sp.search(q=input_t+' '+input_a, limit=1)\n",
    "        try :\n",
    "            audiof = sp.audio_features(search['tracks']['items'][0]['uri'])\n",
    "            audiof = pd.DataFrame.from_dict(audiof).select_dtypes(include = 'number')\n",
    "            track_prep = scaler.transform(audiof)\n",
    "            cluster_nb = kmeans.predict(track_prep)[0]\n",
    "            while title == input_t :\n",
    "                filtered = my_songs[my_songs['cluster'] == cluster_nb].reset_index()\n",
    "                rnb = randint(1, len(filtered['title']))\n",
    "                title = filtered['title'][rnb]\n",
    "                artist = filtered['artist'][rnb]\n",
    "            print('Here is a similar song : ', title,' by ',artist)\n",
    "        except :\n",
    "            print('This song can not be found in the database.')\n",
    "    print()\n",
    "    i = input('Do you want to try again ? Type yes or no :      ')\n",
    "    \n"
   ]
  }
 ],
 "metadata": {
  "kernelspec": {
   "display_name": "Python 3",
   "language": "python",
   "name": "python3"
  },
  "language_info": {
   "codemirror_mode": {
    "name": "ipython",
    "version": 3
   },
   "file_extension": ".py",
   "mimetype": "text/x-python",
   "name": "python",
   "nbconvert_exporter": "python",
   "pygments_lexer": "ipython3",
   "version": "3.8.8"
  }
 },
 "nbformat": 4,
 "nbformat_minor": 5
}
