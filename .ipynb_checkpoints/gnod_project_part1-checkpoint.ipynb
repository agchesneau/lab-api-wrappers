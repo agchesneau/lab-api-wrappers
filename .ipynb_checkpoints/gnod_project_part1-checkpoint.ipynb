{
 "cells": [
  {
   "cell_type": "markdown",
   "id": "3aaf2e17",
   "metadata": {},
   "source": [
    "# Gnod lab"
   ]
  },
  {
   "cell_type": "markdown",
   "id": "d494fcdb",
   "metadata": {},
   "source": [
    "## Morning lab"
   ]
  },
  {
   "cell_type": "code",
   "execution_count": 1,
   "id": "5f0b868a",
   "metadata": {},
   "outputs": [],
   "source": [
    "from bs4 import BeautifulSoup\n",
    "import requests\n",
    "import pandas as pd\n",
    "import random\n",
    "from time import sleep"
   ]
  },
  {
   "cell_type": "code",
   "execution_count": 2,
   "id": "005932ed",
   "metadata": {},
   "outputs": [],
   "source": [
    "url = \"https://www.billboard.com/charts/hot-100/\""
   ]
  },
  {
   "cell_type": "code",
   "execution_count": 3,
   "id": "cf4e2cb5",
   "metadata": {},
   "outputs": [
    {
     "data": {
      "text/plain": [
       "200"
      ]
     },
     "execution_count": 3,
     "metadata": {},
     "output_type": "execute_result"
    }
   ],
   "source": [
    "response = requests.get(url)\n",
    "response.status_code"
   ]
  },
  {
   "cell_type": "code",
   "execution_count": 4,
   "id": "7db18646",
   "metadata": {},
   "outputs": [],
   "source": [
    "soup = BeautifulSoup(response.content, \"html.parser\")"
   ]
  },
  {
   "cell_type": "code",
   "execution_count": 5,
   "id": "0ef0dff3",
   "metadata": {},
   "outputs": [
    {
     "data": {
      "text/plain": [
       "[<li class=\"o-chart-results-list__item // lrv-u-flex-grow-1 lrv-u-flex lrv-u-flex-direction-column lrv-u-justify-content-center lrv-u-border-b-1 u-border-b-0@mobile-max lrv-u-border-color-grey-light lrv-u-padding-l-1@mobile-max\">\n",
       " <h3 class=\"c-title a-no-trucate a-font-primary-bold-s u-letter-spacing-0021 u-font-size-23@tablet lrv-u-font-size-16 u-line-height-125 u-line-height-normal@mobile-max a-truncate-ellipsis u-max-width-245 u-max-width-230@tablet-only u-letter-spacing-0028@tablet\" id=\"title-of-a-story\">\n",
       " All Too Well (Taylor's Version)\n",
       " </h3>\n",
       " <span class=\"c-label a-no-trucate a-font-primary-s lrv-u-font-size-14@mobile-max u-line-height-normal@mobile-max u-letter-spacing-0021 lrv-u-display-block a-truncate-ellipsis-2line u-max-width-330 u-max-width-230@tablet-only u-font-size-20@tablet\">\n",
       " Taylor Swift\n",
       " </span>\n",
       " </li>]"
      ]
     },
     "execution_count": 5,
     "metadata": {},
     "output_type": "execute_result"
    }
   ],
   "source": [
    "soup.select(\"#post-1479786 > div.pmc-paywall > div > div > div > div.chart-results-list.\\/\\/.lrv-u-padding-t-150.lrv-u-padding-t-050\\@mobile-max > div:nth-child(2) > ul > li.lrv-u-width-100p > ul > li.o-chart-results-list__item.\\/\\/.lrv-u-flex-grow-1.lrv-u-flex.lrv-u-flex-direction-column.lrv-u-justify-content-center.lrv-u-border-b-1.u-border-b-0\\@mobile-max.lrv-u-border-color-grey-light.lrv-u-padding-l-1\\@mobile-max\")"
   ]
  },
  {
   "cell_type": "code",
   "execution_count": 6,
   "id": "0967609a",
   "metadata": {},
   "outputs": [],
   "source": [
    "# all songs in top 100\n",
    "# soup.select(\"li.o-chart-results-list__item.\\/\\/.lrv-u-flex-grow-1.lrv-u-flex.lrv-u-flex-direction-column.lrv-u-justify-content-center.lrv-u-border-b-1.u-border-b-0\\@mobile-max.lrv-u-border-color-grey-light.lrv-u-padding-l-1\\@mobile-max\")"
   ]
  },
  {
   "cell_type": "code",
   "execution_count": 7,
   "id": "546e8ef7",
   "metadata": {},
   "outputs": [],
   "source": [
    "# all titles\n",
    "# soup.select(\"li.o-chart-results-list__item.\\/\\/.lrv-u-flex-grow-1.lrv-u-flex.lrv-u-flex-direction-column.lrv-u-justify-content-center.lrv-u-border-b-1.u-border-b-0\\@mobile-max.lrv-u-border-color-grey-light.lrv-u-padding-l-1\\@mobile-max h3\")"
   ]
  },
  {
   "cell_type": "code",
   "execution_count": 8,
   "id": "723fd20f",
   "metadata": {},
   "outputs": [
    {
     "data": {
      "text/plain": [
       "\"\\nAll Too Well (Taylor's Version)\\n\""
      ]
     },
     "execution_count": 8,
     "metadata": {},
     "output_type": "execute_result"
    }
   ],
   "source": [
    "soup.select(\"li.o-chart-results-list__item.\\/\\/.lrv-u-flex-grow-1.lrv-u-flex.lrv-u-flex-direction-column.lrv-u-justify-content-center.lrv-u-border-b-1.u-border-b-0\\@mobile-max.lrv-u-border-color-grey-light.lrv-u-padding-l-1\\@mobile-max h3\")[0].get_text()"
   ]
  },
  {
   "cell_type": "code",
   "execution_count": 9,
   "id": "2131afcc",
   "metadata": {},
   "outputs": [
    {
     "data": {
      "text/plain": [
       "'\\nTaylor Swift\\n'"
      ]
     },
     "execution_count": 9,
     "metadata": {},
     "output_type": "execute_result"
    }
   ],
   "source": [
    "# getting artist :\n",
    "soup.select(\"li.o-chart-results-list__item.\\/\\/.lrv-u-flex-grow-1.lrv-u-flex.lrv-u-flex-direction-column.lrv-u-justify-content-center.lrv-u-border-b-1.u-border-b-0\\@mobile-max.lrv-u-border-color-grey-light.lrv-u-padding-l-1\\@mobile-max span\")[0].get_text()"
   ]
  },
  {
   "cell_type": "code",
   "execution_count": 10,
   "id": "144037f1",
   "metadata": {},
   "outputs": [],
   "source": [
    "# making table\n",
    "title = []\n",
    "artist = []\n",
    "\n",
    "\n",
    "num_iter = len(soup.select(\"li.o-chart-results-list__item.\\/\\/.lrv-u-flex-grow-1.lrv-u-flex.lrv-u-flex-direction-column.lrv-u-justify-content-center.lrv-u-border-b-1.u-border-b-0\\@mobile-max.lrv-u-border-color-grey-light.lrv-u-padding-l-1\\@mobile-max h3\"))\n",
    "\n",
    "for i in range(num_iter):\n",
    "    title.append(soup.select(\"li.o-chart-results-list__item.\\/\\/.lrv-u-flex-grow-1.lrv-u-flex.lrv-u-flex-direction-column.lrv-u-justify-content-center.lrv-u-border-b-1.u-border-b-0\\@mobile-max.lrv-u-border-color-grey-light.lrv-u-padding-l-1\\@mobile-max h3\")[i].get_text())\n",
    "    artist.append(soup.select(\"li.o-chart-results-list__item.\\/\\/.lrv-u-flex-grow-1.lrv-u-flex.lrv-u-flex-direction-column.lrv-u-justify-content-center.lrv-u-border-b-1.u-border-b-0\\@mobile-max.lrv-u-border-color-grey-light.lrv-u-padding-l-1\\@mobile-max span\")[i].get_text())"
   ]
  },
  {
   "cell_type": "code",
   "execution_count": 11,
   "id": "a3c74b65",
   "metadata": {},
   "outputs": [],
   "source": [
    "top100 = pd.DataFrame({\"title\":title,\n",
    "                           \"artist\":artist,\n",
    "                      })"
   ]
  },
  {
   "cell_type": "code",
   "execution_count": 12,
   "id": "2f0b931d",
   "metadata": {},
   "outputs": [
    {
     "data": {
      "text/html": [
       "<div>\n",
       "<style scoped>\n",
       "    .dataframe tbody tr th:only-of-type {\n",
       "        vertical-align: middle;\n",
       "    }\n",
       "\n",
       "    .dataframe tbody tr th {\n",
       "        vertical-align: top;\n",
       "    }\n",
       "\n",
       "    .dataframe thead th {\n",
       "        text-align: right;\n",
       "    }\n",
       "</style>\n",
       "<table border=\"1\" class=\"dataframe\">\n",
       "  <thead>\n",
       "    <tr style=\"text-align: right;\">\n",
       "      <th></th>\n",
       "      <th>title</th>\n",
       "      <th>artist</th>\n",
       "    </tr>\n",
       "  </thead>\n",
       "  <tbody>\n",
       "    <tr>\n",
       "      <th>0</th>\n",
       "      <td>\\nAll Too Well (Taylor's Version)\\n</td>\n",
       "      <td>\\nTaylor Swift\\n</td>\n",
       "    </tr>\n",
       "    <tr>\n",
       "      <th>1</th>\n",
       "      <td>\\nEasy On Me\\n</td>\n",
       "      <td>\\nAdele\\n</td>\n",
       "    </tr>\n",
       "    <tr>\n",
       "      <th>2</th>\n",
       "      <td>\\nStay\\n</td>\n",
       "      <td>\\nThe Kid LAROI &amp; Justin Bieber\\n</td>\n",
       "    </tr>\n",
       "    <tr>\n",
       "      <th>3</th>\n",
       "      <td>\\nIndustry Baby\\n</td>\n",
       "      <td>\\nLil Nas X &amp; Jack Harlow\\n</td>\n",
       "    </tr>\n",
       "    <tr>\n",
       "      <th>4</th>\n",
       "      <td>\\nSmokin Out The Window\\n</td>\n",
       "      <td>\\nSilk Sonic (Bruno Mars &amp; Anderson .Paak)\\n</td>\n",
       "    </tr>\n",
       "  </tbody>\n",
       "</table>\n",
       "</div>"
      ],
      "text/plain": [
       "                                 title  \\\n",
       "0  \\nAll Too Well (Taylor's Version)\\n   \n",
       "1                       \\nEasy On Me\\n   \n",
       "2                             \\nStay\\n   \n",
       "3                    \\nIndustry Baby\\n   \n",
       "4            \\nSmokin Out The Window\\n   \n",
       "\n",
       "                                         artist  \n",
       "0                              \\nTaylor Swift\\n  \n",
       "1                                     \\nAdele\\n  \n",
       "2             \\nThe Kid LAROI & Justin Bieber\\n  \n",
       "3                   \\nLil Nas X & Jack Harlow\\n  \n",
       "4  \\nSilk Sonic (Bruno Mars & Anderson .Paak)\\n  "
      ]
     },
     "execution_count": 12,
     "metadata": {},
     "output_type": "execute_result"
    }
   ],
   "source": [
    "top100.head()"
   ]
  },
  {
   "cell_type": "code",
   "execution_count": 13,
   "id": "32f96119",
   "metadata": {},
   "outputs": [],
   "source": [
    "title_c = []\n",
    "for item in title :\n",
    "    item = item.replace('\\n','').lower()\n",
    "    title_c.append(item)\n",
    "    \n",
    "    \n",
    "        \n",
    "artist_c = []\n",
    "for item in artist :\n",
    "    item = item.replace('\\n','').lower()\n",
    "    artist_c.append(item)\n",
    "    \n",
    "top100 = pd.DataFrame({\"title\":title_c,\n",
    "                        \"artist\":artist_c,\n",
    "                      })"
   ]
  },
  {
   "cell_type": "code",
   "execution_count": 14,
   "id": "a6518bde",
   "metadata": {},
   "outputs": [
    {
     "data": {
      "text/html": [
       "<div>\n",
       "<style scoped>\n",
       "    .dataframe tbody tr th:only-of-type {\n",
       "        vertical-align: middle;\n",
       "    }\n",
       "\n",
       "    .dataframe tbody tr th {\n",
       "        vertical-align: top;\n",
       "    }\n",
       "\n",
       "    .dataframe thead th {\n",
       "        text-align: right;\n",
       "    }\n",
       "</style>\n",
       "<table border=\"1\" class=\"dataframe\">\n",
       "  <thead>\n",
       "    <tr style=\"text-align: right;\">\n",
       "      <th></th>\n",
       "      <th>title</th>\n",
       "      <th>artist</th>\n",
       "    </tr>\n",
       "  </thead>\n",
       "  <tbody>\n",
       "    <tr>\n",
       "      <th>0</th>\n",
       "      <td>all too well (taylor's version)</td>\n",
       "      <td>taylor swift</td>\n",
       "    </tr>\n",
       "    <tr>\n",
       "      <th>1</th>\n",
       "      <td>easy on me</td>\n",
       "      <td>adele</td>\n",
       "    </tr>\n",
       "    <tr>\n",
       "      <th>2</th>\n",
       "      <td>stay</td>\n",
       "      <td>the kid laroi &amp; justin bieber</td>\n",
       "    </tr>\n",
       "    <tr>\n",
       "      <th>3</th>\n",
       "      <td>industry baby</td>\n",
       "      <td>lil nas x &amp; jack harlow</td>\n",
       "    </tr>\n",
       "    <tr>\n",
       "      <th>4</th>\n",
       "      <td>smokin out the window</td>\n",
       "      <td>silk sonic (bruno mars &amp; anderson .paak)</td>\n",
       "    </tr>\n",
       "  </tbody>\n",
       "</table>\n",
       "</div>"
      ],
      "text/plain": [
       "                             title                                    artist\n",
       "0  all too well (taylor's version)                              taylor swift\n",
       "1                       easy on me                                     adele\n",
       "2                             stay             the kid laroi & justin bieber\n",
       "3                    industry baby                   lil nas x & jack harlow\n",
       "4            smokin out the window  silk sonic (bruno mars & anderson .paak)"
      ]
     },
     "execution_count": 14,
     "metadata": {},
     "output_type": "execute_result"
    }
   ],
   "source": [
    "top100.head()"
   ]
  },
  {
   "cell_type": "code",
   "execution_count": 15,
   "id": "165183c5",
   "metadata": {},
   "outputs": [
    {
     "data": {
      "text/plain": [
       "100"
      ]
     },
     "execution_count": 15,
     "metadata": {},
     "output_type": "execute_result"
    }
   ],
   "source": [
    "len(top100)"
   ]
  },
  {
   "cell_type": "markdown",
   "id": "15d4a2a8",
   "metadata": {},
   "source": [
    "## Afternoon lab"
   ]
  },
  {
   "cell_type": "code",
   "execution_count": 16,
   "id": "fdd690b8",
   "metadata": {},
   "outputs": [],
   "source": [
    "# adding France Top 100"
   ]
  },
  {
   "cell_type": "code",
   "execution_count": 17,
   "id": "aa31cda4",
   "metadata": {},
   "outputs": [],
   "source": [
    "#simpletable > tbody > tr:nth-child(1) > td.mp.text > div"
   ]
  },
  {
   "cell_type": "code",
   "execution_count": 18,
   "id": "ccf08c96",
   "metadata": {},
   "outputs": [],
   "source": [
    "url2 = \"https://kworb.net/charts/deezer/fr.html\""
   ]
  },
  {
   "cell_type": "code",
   "execution_count": 19,
   "id": "97796586",
   "metadata": {},
   "outputs": [
    {
     "data": {
      "text/plain": [
       "200"
      ]
     },
     "execution_count": 19,
     "metadata": {},
     "output_type": "execute_result"
    }
   ],
   "source": [
    "response2 = requests.get(url2)\n",
    "response2.status_code"
   ]
  },
  {
   "cell_type": "code",
   "execution_count": 20,
   "id": "9187a3fb",
   "metadata": {},
   "outputs": [],
   "source": [
    "soup2 = BeautifulSoup(response2.content, \"html.parser\")"
   ]
  },
  {
   "cell_type": "code",
   "execution_count": 21,
   "id": "d2e4a5a9",
   "metadata": {},
   "outputs": [
    {
     "data": {
      "text/plain": [
       "[<div>Orelsan - La Quête</div>]"
      ]
     },
     "execution_count": 21,
     "metadata": {},
     "output_type": "execute_result"
    }
   ],
   "source": [
    "soup2.select(\"#simpletable > tbody > tr:nth-child(1) > td.mp.text > div\")"
   ]
  },
  {
   "cell_type": "code",
   "execution_count": 22,
   "id": "0e930493",
   "metadata": {},
   "outputs": [],
   "source": [
    "# soup2.select(\"#simpletable > tbody\")"
   ]
  },
  {
   "cell_type": "code",
   "execution_count": 23,
   "id": "9cf35334",
   "metadata": {},
   "outputs": [],
   "source": [
    "new_table =[]\n",
    "\n",
    "for i in range(len(soup2.select(\"#simpletable > tbody div\"))) :\n",
    "    new_table.append(soup2.select(\"#simpletable > tbody div\")[i].get_text())"
   ]
  },
  {
   "cell_type": "code",
   "execution_count": 24,
   "id": "5f4b40bb",
   "metadata": {},
   "outputs": [],
   "source": [
    "title=[]\n",
    "artist=[]\n",
    "\n",
    "for i in new_table :\n",
    "    x, y = i.split(' - ')\n",
    "    artist.append(x)\n",
    "    title.append(y)\n",
    "    \n",
    "france_top100 = pd.DataFrame({\"title\":title, \"artist\":artist})"
   ]
  },
  {
   "cell_type": "markdown",
   "id": "16b15078",
   "metadata": {},
   "source": [
    "# Getting user input"
   ]
  },
  {
   "cell_type": "code",
   "execution_count": 25,
   "id": "d8fa861c",
   "metadata": {},
   "outputs": [],
   "source": [
    "# generate random integer values\n",
    "from random import seed\n",
    "from random import randint"
   ]
  },
  {
   "cell_type": "code",
   "execution_count": 26,
   "id": "37b58c29",
   "metadata": {},
   "outputs": [
    {
     "name": "stdout",
     "output_type": "stream",
     "text": [
      "Song title :\n",
      "easy on me\n",
      "Artist :\n",
      "adele\n",
      "This song is a hit song ! Here is another one :  after last night  by  silk sonic (bruno mars & anderson .paak) with thundercat & bootsy collins\n"
     ]
    }
   ],
   "source": [
    "print('Song title :')\n",
    "input_t = input()\n",
    "print('Artist :')\n",
    "input_a = input()\n",
    "\n",
    "input_t = input_t.lower()\n",
    "input_a = input_a.lower()\n",
    "title = input_t\n",
    "\n",
    "\n",
    "if (input_t in top100['title'].values) & (input_a in top100['artist'].values):\n",
    "    while title == input_t :\n",
    "        rnb = randint(1, 100)\n",
    "        title = top100['title'][rnb]\n",
    "        artist = top100['artist'][rnb]\n",
    "    print('This song is a hit song ! Here is another one : ', title,' by ',artist)\n",
    "else :\n",
    "    print('This title is not in the top 100.')"
   ]
  },
  {
   "cell_type": "markdown",
   "id": "ae739a34",
   "metadata": {},
   "source": [
    "# Getting songs from spotify"
   ]
  },
  {
   "cell_type": "code",
   "execution_count": 27,
   "id": "4076c5d5",
   "metadata": {},
   "outputs": [],
   "source": [
    "secrets_file = open(\"secrets.txt\",\"r\")\n",
    "string = secrets_file.read()\n",
    "secrets_dict={}\n",
    "for line in string.split('\\n'):\n",
    "    if len(line) > 0:\n",
    "        secrets_dict[line.split(':')[0]]=line.split(':')[1]"
   ]
  },
  {
   "cell_type": "code",
   "execution_count": 28,
   "id": "965d575b",
   "metadata": {},
   "outputs": [],
   "source": [
    "import spotipy\n",
    "from spotipy.oauth2 import SpotifyClientCredentials, SpotifyOAuth\n",
    "\n",
    "# sp = spotipy.Spotify(auth_manager=SpotifyClientCredentials(client_id=secrets_dict['cid'],\n",
    "#                                                            client_secret=secrets_dict['csecret']))\n"
   ]
  },
  {
   "cell_type": "code",
   "execution_count": 29,
   "id": "923705a5",
   "metadata": {},
   "outputs": [],
   "source": [
    "client_id = secrets_dict['cid']\n",
    "client_secret = secrets_dict['csecret']\n",
    "username = \"Agathe\"\n",
    "\n",
    "#note that I extended the scope to also modify non-public playlists\n",
    "scope = 'user-library-read'\n",
    "\n",
    "redirect_uri = \"https://developer.spotify.com/dashboard/applications/f976e079afea49dabf28567ae9515b5a/users\"\n",
    "\n",
    "client_cred_manager = SpotifyClientCredentials(client_id=client_id, \n",
    "                                                      client_secret=client_secret)\n",
    "                                                      \n",
    "sp = spotipy.Spotify(client_credentials_manager = client_cred_manager)\n",
    "\n",
    "token = spotipy.util.prompt_for_user_token(username, scope, client_id, client_secret, redirect_uri)\n",
    "if token:\n",
    "    sp = spotipy.Spotify(auth=token)\n",
    "else:\n",
    "    print(\"Can't get token for\", username)"
   ]
  },
  {
   "cell_type": "code",
   "execution_count": 30,
   "id": "15a88249",
   "metadata": {},
   "outputs": [],
   "source": [
    "results = sp.current_user_saved_tracks()"
   ]
  },
  {
   "cell_type": "code",
   "execution_count": 31,
   "id": "fd2d7f60",
   "metadata": {},
   "outputs": [],
   "source": [
    "def get_playlist_tracks(results):\n",
    "    tracks = results['items']\n",
    "    while results['next']!=None:\n",
    "        results = sp.next(results)\n",
    "        tracks = tracks + results['items']\n",
    "        sleep(randint(1,3))\n",
    "    return tracks"
   ]
  },
  {
   "cell_type": "code",
   "execution_count": 32,
   "id": "771b53dd",
   "metadata": {},
   "outputs": [],
   "source": [
    "tracks = get_playlist_tracks(results)"
   ]
  },
  {
   "cell_type": "code",
   "execution_count": 33,
   "id": "e005d2d7",
   "metadata": {},
   "outputs": [],
   "source": [
    "my_titles = []\n",
    "my_titles = [item['track']['name'] for item in tracks]\n",
    "my_uri = []\n",
    "my_uri = [item['track']['uri'] for item in tracks]\n",
    "\n",
    "def list_artists(tracklist):\n",
    "    lst=[]\n",
    "    for item in tracklist:\n",
    "        this_item_artist =[]\n",
    "        for artist in item['track']['artists'] :\n",
    "            this_item_artist.append(artist['name'])\n",
    "        lst.append(this_item_artist)\n",
    "    return lst\n",
    "my_artists = []\n",
    "my_artists = list_artists(tracks)\n"
   ]
  },
  {
   "cell_type": "code",
   "execution_count": 34,
   "id": "80d4cc57",
   "metadata": {},
   "outputs": [],
   "source": [
    "my_songs = pd.DataFrame({'uri':my_uri,'song':my_titles,'artist':my_artists})"
   ]
  },
  {
   "cell_type": "code",
   "execution_count": 35,
   "id": "f8095a98",
   "metadata": {},
   "outputs": [
    {
     "data": {
      "text/html": [
       "<div>\n",
       "<style scoped>\n",
       "    .dataframe tbody tr th:only-of-type {\n",
       "        vertical-align: middle;\n",
       "    }\n",
       "\n",
       "    .dataframe tbody tr th {\n",
       "        vertical-align: top;\n",
       "    }\n",
       "\n",
       "    .dataframe thead th {\n",
       "        text-align: right;\n",
       "    }\n",
       "</style>\n",
       "<table border=\"1\" class=\"dataframe\">\n",
       "  <thead>\n",
       "    <tr style=\"text-align: right;\">\n",
       "      <th></th>\n",
       "      <th>uri</th>\n",
       "      <th>song</th>\n",
       "      <th>artist</th>\n",
       "    </tr>\n",
       "  </thead>\n",
       "  <tbody>\n",
       "    <tr>\n",
       "      <th>0</th>\n",
       "      <td>spotify:track:4r1AS456lSXXXv6aVpDT4e</td>\n",
       "      <td>Sun in an Empty Room</td>\n",
       "      <td>[The Weakerthans]</td>\n",
       "    </tr>\n",
       "    <tr>\n",
       "      <th>1</th>\n",
       "      <td>spotify:track:563RrhWUWOYNGW5vhxHSH7</td>\n",
       "      <td>Harmless</td>\n",
       "      <td>[Gregory and the Hawk]</td>\n",
       "    </tr>\n",
       "    <tr>\n",
       "      <th>2</th>\n",
       "      <td>spotify:track:4ca03o6ZZsFA0LB620kpKI</td>\n",
       "      <td>Chasing Birds - Preservation Hall Jazz Band Re...</td>\n",
       "      <td>[Foo Fighters]</td>\n",
       "    </tr>\n",
       "    <tr>\n",
       "      <th>3</th>\n",
       "      <td>spotify:track:21Phj46KeUHOWyZW9A9b7P</td>\n",
       "      <td>Alberto Balsalm</td>\n",
       "      <td>[Aphex Twin]</td>\n",
       "    </tr>\n",
       "    <tr>\n",
       "      <th>4</th>\n",
       "      <td>spotify:track:1Oi2zpmL81Q0yScF1zxaC0</td>\n",
       "      <td>Bills, Bills, Bills</td>\n",
       "      <td>[Destiny's Child]</td>\n",
       "    </tr>\n",
       "    <tr>\n",
       "      <th>...</th>\n",
       "      <td>...</td>\n",
       "      <td>...</td>\n",
       "      <td>...</td>\n",
       "    </tr>\n",
       "    <tr>\n",
       "      <th>1167</th>\n",
       "      <td>spotify:track:7i7vtLp7cLSoz1moXwxxEd</td>\n",
       "      <td>Pritouri Se Planinata</td>\n",
       "      <td>[Bulgarian State Television Female Choir]</td>\n",
       "    </tr>\n",
       "    <tr>\n",
       "      <th>1168</th>\n",
       "      <td>spotify:track:4qo5BUZx4IAdbmltMJAiKd</td>\n",
       "      <td>Tonight</td>\n",
       "      <td>[Lykke Li]</td>\n",
       "    </tr>\n",
       "    <tr>\n",
       "      <th>1169</th>\n",
       "      <td>spotify:track:5xhQChGGhKLWqBqX4XhtYE</td>\n",
       "      <td>Sail</td>\n",
       "      <td>[AWOLNATION]</td>\n",
       "    </tr>\n",
       "    <tr>\n",
       "      <th>1170</th>\n",
       "      <td>spotify:track:6xkAnyEoJ2VDZuh7xfdl3Z</td>\n",
       "      <td>Happy</td>\n",
       "      <td>[MARINA]</td>\n",
       "    </tr>\n",
       "    <tr>\n",
       "      <th>1171</th>\n",
       "      <td>spotify:track:6GyFP1nfCDB8lbD2bG0Hq9</td>\n",
       "      <td>Midnight City</td>\n",
       "      <td>[M83]</td>\n",
       "    </tr>\n",
       "  </tbody>\n",
       "</table>\n",
       "<p>1172 rows × 3 columns</p>\n",
       "</div>"
      ],
      "text/plain": [
       "                                       uri  \\\n",
       "0     spotify:track:4r1AS456lSXXXv6aVpDT4e   \n",
       "1     spotify:track:563RrhWUWOYNGW5vhxHSH7   \n",
       "2     spotify:track:4ca03o6ZZsFA0LB620kpKI   \n",
       "3     spotify:track:21Phj46KeUHOWyZW9A9b7P   \n",
       "4     spotify:track:1Oi2zpmL81Q0yScF1zxaC0   \n",
       "...                                    ...   \n",
       "1167  spotify:track:7i7vtLp7cLSoz1moXwxxEd   \n",
       "1168  spotify:track:4qo5BUZx4IAdbmltMJAiKd   \n",
       "1169  spotify:track:5xhQChGGhKLWqBqX4XhtYE   \n",
       "1170  spotify:track:6xkAnyEoJ2VDZuh7xfdl3Z   \n",
       "1171  spotify:track:6GyFP1nfCDB8lbD2bG0Hq9   \n",
       "\n",
       "                                                   song  \\\n",
       "0                                  Sun in an Empty Room   \n",
       "1                                              Harmless   \n",
       "2     Chasing Birds - Preservation Hall Jazz Band Re...   \n",
       "3                                       Alberto Balsalm   \n",
       "4                                   Bills, Bills, Bills   \n",
       "...                                                 ...   \n",
       "1167                              Pritouri Se Planinata   \n",
       "1168                                            Tonight   \n",
       "1169                                               Sail   \n",
       "1170                                              Happy   \n",
       "1171                                      Midnight City   \n",
       "\n",
       "                                         artist  \n",
       "0                             [The Weakerthans]  \n",
       "1                        [Gregory and the Hawk]  \n",
       "2                                [Foo Fighters]  \n",
       "3                                  [Aphex Twin]  \n",
       "4                             [Destiny's Child]  \n",
       "...                                         ...  \n",
       "1167  [Bulgarian State Television Female Choir]  \n",
       "1168                                 [Lykke Li]  \n",
       "1169                               [AWOLNATION]  \n",
       "1170                                   [MARINA]  \n",
       "1171                                      [M83]  \n",
       "\n",
       "[1172 rows x 3 columns]"
      ]
     },
     "execution_count": 35,
     "metadata": {},
     "output_type": "execute_result"
    }
   ],
   "source": [
    "my_songs"
   ]
  }
 ],
 "metadata": {
  "kernelspec": {
   "display_name": "Python 3",
   "language": "python",
   "name": "python3"
  },
  "language_info": {
   "codemirror_mode": {
    "name": "ipython",
    "version": 3
   },
   "file_extension": ".py",
   "mimetype": "text/x-python",
   "name": "python",
   "nbconvert_exporter": "python",
   "pygments_lexer": "ipython3",
   "version": "3.8.8"
  }
 },
 "nbformat": 4,
 "nbformat_minor": 5
}
